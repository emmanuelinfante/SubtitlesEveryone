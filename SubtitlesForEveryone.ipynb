{
  "nbformat": 4,
  "nbformat_minor": 0,
  "metadata": {
    "colab": {
      "provenance": [],
      "collapsed_sections": [
        "MabnNxm5MAuS",
        "IIILsnqTUn6H"
      ],
      "gpuType": "T4"
    },
    "kernelspec": {
      "name": "python3",
      "display_name": "Python 3"
    },
    "language_info": {
      "name": "python"
    },
    "accelerator": "GPU"
  },
  "cells": [
    {
      "cell_type": "markdown",
      "metadata": {
        "id": "3eb38cc7"
      },
      "source": [
        "#**📝¡SubtitlesForEveryone!** Transcribe y traduce de forma gratuita."
      ]
    },
    {
      "cell_type": "markdown",
      "metadata": {
        "id": "1bce6f74"
      },
      "source": [
        "¡Bienvenido al notebook oficial de **SubtitlesForEveryone**!\n",
        "\n",
        ">Este Notebook, recopila y facilita el uso de herramientas de inteligencia artificial para la transcripcion y traduccion de audio. Si necesitas crear subtitulos de tu pelicula o de un video, solo tienes que seguir las indicaciones que te proporcionaré a continuación, y comprobarás lo fácil que es.\n",
        "\n",
        "## ¿Cómo empezar? 🚀\n",
        "\n",
        "1. **Habilita la GPU**: Para obtener una transcripción rápida, asegúrate de habilitar la GPU. Ve a \"Entorno de ejecución\" > \"Cambiar tipo de entorno de ejecución\" > y selecciona \"T4 GPU\" en la opción \"Acelerador de hardware\".\n",
        "2. **Sube tu audio o Pega Una URL de Youtube**: Usa la herramienta de abajo para subir tu archivo de audio o usa la herramienta para importar tu video de youtube.\n",
        "3. **Ejecuta las celdas**: Simplemente ejecuta las celdas en orden, ¡y verás la magia suceder! ✨\n",
        "\n",
        "**Nota**: Si eres nuevo en Google Colab, cada celda con código se ejecuta haciendo clic en el botón de reproducción (▶️) a la izquierda de la celda, o puedes presionar `Shift + Enter`.\n"
      ]
    },
    {
      "cell_type": "markdown",
      "source": [
        "# **1. ¡Instalación de paquetes necesarios! 📦**\n",
        "Primero, necesitamos descargar todas las librerias necesarias para hacer funcionar este notebook!"
      ],
      "metadata": {
        "id": "MabnNxm5MAuS"
      }
    },
    {
      "cell_type": "code",
      "source": [
        "#Instalacion de paquetes livianos pero necesarios\n",
        "!pip install srtranslator\n",
        "!pip3 install ip-rotator\n",
        "!pip install yt-dlp\n",
        "!pip install srt\n",
        "!pip install translators"
      ],
      "metadata": {
        "id": "OlXUcub9JN3_"
      },
      "execution_count": null,
      "outputs": []
    },
    {
      "cell_type": "code",
      "source": [
        "#Instalacion de paquetes fundamentales\n",
        "!pip install demucs\n",
        "!pip install git+https://github.com/m-bain/whisperx"
      ],
      "metadata": {
        "id": "6eMn2-9OLeqz"
      },
      "execution_count": null,
      "outputs": []
    },
    {
      "cell_type": "markdown",
      "source": [
        "# **Ahora si, Crea tu subtitulo!** 📜"
      ],
      "metadata": {
        "id": "Cl0GmU4fMSkF"
      }
    },
    {
      "cell_type": "code",
      "source": [
        "#@markdown # **1. Sube tu archivo de audio 📻**\n",
        "#@markdown Haz clic en el botón de abajo para subir tu archivo de audio. Asegúrate de que sea un archivo en formato MP3.\n",
        "from google.colab import files\n",
        "\n",
        "uploaded = files.upload()\n",
        "audio_file = list(uploaded.keys())[0]\n",
        "\n",
        "# Renombra el archivo de audio\n",
        "import os\n",
        "os.rename(audio_file, \"audio.mp3\")"
      ],
      "metadata": {
        "cellView": "form",
        "id": "IygHVyguN4JG"
      },
      "execution_count": null,
      "outputs": []
    },
    {
      "cell_type": "code",
      "source": [
        "import sys\n",
        "import warnings\n",
        "import yt_dlp\n",
        "import subprocess\n",
        "import torch\n",
        "import shutil\n",
        "import numpy as np\n",
        "from IPython.display import display, Markdown, YouTubeVideo\n",
        "\n",
        "device = torch.device('cuda:0')\n",
        "print('Using device:', device, file=sys.stderr)\n",
        "\n",
        "Type = \"Youtube video or playlist\"\n",
        "#@markdown # Descarga el audio de su video de youtube 📀\n",
        "URL = \"\" #@param {type:\"string\"}\n",
        "#@markdown Tardara unos segundos en cargar, porfavor, sea paciente.\n",
        "\n",
        "video_path_local_list = []\n",
        "\n",
        "if Type == \"Youtube video or playlist\":\n",
        "\n",
        "  ydl_opts = {\n",
        "    'format': 'm4a/bestaudio/best',\n",
        "    'outtmpl': 'audio',  # Rename the extracted MP3 file to \"audio.mp3\"\n",
        "    'postprocessors': [{\n",
        "      'key': 'FFmpegExtractAudio',\n",
        "      'preferredcodec': 'mp3',\n",
        "    }]\n",
        "  }\n",
        "\n",
        "  with yt_dlp.YoutubeDL(ydl_opts) as ydl:\n",
        "    error_code = ydl.download([URL])\n",
        "    list_video_info = [ydl.extract_info(URL, download=False)]\n",
        "\n",
        "#change sample rate\n",
        "import librosa\n",
        "import soundfile as sf\n",
        "\n",
        "def convertir_frecuencia(archivo_entrada, archivo_salida):\n",
        "  # Cargar el archivo de audio\n",
        "  senal, frecuencia_muestreo = librosa.load(archivo_entrada)\n",
        "\n",
        "  # Convertir a mono\n",
        "  senal_mono = librosa.to_mono(senal)\n",
        "\n",
        "  # Nueva frecuencia de muestreo\n",
        "  nueva_frecuencia = 16000\n",
        "\n",
        "  # Convertir la señal a la nueva frecuencia\n",
        "  senal_convertida = librosa.resample(senal, orig_sr=frecuencia_muestreo, target_sr=nueva_frecuencia)\n",
        "\n",
        "  # Guardar el archivo de audio convertido\n",
        "  sf.write(archivo_salida, senal_convertida, nueva_frecuencia)\n",
        "\n",
        "# Ejemplo de uso\n",
        "archivo_entrada = \"audio.mp3\"\n",
        "archivo_salida = \"audio_16_000.mp3\"\n",
        "\n",
        "convertir_frecuencia(archivo_entrada, archivo_salida)"
      ],
      "metadata": {
        "cellView": "form",
        "id": "_s5iwIAToIzn"
      },
      "execution_count": null,
      "outputs": []
    },
    {
      "cell_type": "code",
      "source": [
        "#@markdown # *Extract vocals From Audio (Alpha)*\n",
        "#@markdown (Opcional, pero <font color=4bb340> **Altamente Recomendable** <font color=d5d5d5> usarlo):\n",
        "#@markdown - ¡Gran Mejora En Idiomas Orientales!\n",
        "#@markdown - Evita que WhisperX Confunda Sonidos de Fondo con el Habla.\n",
        "#@markdown - Mejora la transcripcion con cualquier idioma.\n",
        "#@markdown - Gracias a esta extraccion, sera muy raro e improbable que tengas errores en tu transcripcion.\n",
        "\n",
        "#@markdown **Unico problema:** Aun no se puede usar con audios de una hora. Funciona muy bien con audios de 30 minutos.\n",
        "!python -m demucs.separate /content/audio_16_000.mp3 --mp3 --mp3-bitrate 128 -n hdemucs_mmi --out /content --mp3-preset 7 -d cuda --two-stems=vocals"
      ],
      "metadata": {
        "id": "meHB6u3Uy5t5",
        "cellView": "form"
      },
      "execution_count": null,
      "outputs": []
    },
    {
      "cell_type": "code",
      "source": [
        "#@markdown # **2. Transcripción de voz ✍️**\n",
        "#@markdown Ahora, vamos a transcribir tu archivo de audio.\n",
        "!whisperx /content/audio.mp3 --model large-v3 --output_dir . --device cuda --fp16 True --batch_size 16 --compute_type float16 --beam_size 10 --print_progress True --chunk_size 10 --no_align\n",
        "\n",
        "### Descargar el resultado 📂\n",
        "Download_file = False # @param{type:\"boolean\"}\n",
        "if Download_file:\n",
        " from google.colab import files\n",
        " files.download (\"audio.srt\")"
      ],
      "metadata": {
        "id": "HHiybi78o7D7",
        "cellView": "form"
      },
      "execution_count": null,
      "outputs": []
    },
    {
      "cell_type": "code",
      "source": [
        "#@markdown # **3. Traduzca Tu Subtitulo! 🌍**\n",
        "#@markdown Puedes hacer una transcripcion de tu subtitulo y transformarlo en otro idioma. Puedes usar mas de 6 traductores para elegir.\n",
        "\n",
        "import ip_rotator\n",
        "proxy = ip_rotator.Proxy(https = True)\n",
        "import translators\n",
        "import srt\n",
        "\n",
        "# Read the original SRT file\n",
        "with open(\"audio.srt\", \"r\", encoding=\"utf-8\") as f:\n",
        "    subtitles = srt.parse(f.read())\n",
        "\n",
        "# Function to translate a subtitle (consider error handling)\n",
        "def translate_subtitle(subtitle):\n",
        "    try:\n",
        "        translated_content = translators.translate_text(\n",
        "            query_text=subtitle.content,\n",
        "            from_language=\"auto\"#@param {type:\"string\"}\n",
        "            ,\n",
        "            to_language=\"callate\"#@param {type:\"string\"}\n",
        "            ,\n",
        "            translator=\"deepl\" #@param ['alibaba', 'apertium', 'argos', 'baidu', 'bing', 'caiyun', 'cloudTranslation', 'elia', 'google', 'hujiang', 'iciba', 'iflytek', 'iflyrec', 'itranslate', 'judic', 'languageWire', 'lingvanex', 'niutrans', 'mglip', 'mirai', 'modernMt', 'myMemory', 'papago', 'qqFanyi', 'qqTranSmart', 'reverso', 'sogou', 'sysTran', 'tilde', 'translateCom', 'translateMe', 'utibet', 'volcEngine', 'yandex', 'yeekit', 'youdao']{allow-input: true}\n",
        "        )\n",
        "        print(f\" Subtitile Results {subtitle.index}:\")\n",
        "        print(f\"  Original: {subtitle.content}\")\n",
        "        print(f\"  Traduccion: {translated_content}\")\n",
        "        return srt.Subtitle(subtitle.index, subtitle.start, subtitle.end, translated_content)\n",
        "    except Exception as e:  # Catch potential translation errors\n",
        "        print(f\"Error traduciendo subtítulo {subtitle.index}: {e}\")\n",
        "        return subtitle  # Return the original subtitle if translation fails\n",
        "\n",
        "# Translate each subtitle\n",
        "translated_subtitles = [translate_subtitle(subtitle) for subtitle in subtitles]\n",
        "\n",
        "# Write the translated subtitles to a new file\n",
        "srt_content = srt.compose(translated_subtitles)\n",
        "with open(\"translated.srt\", \"w\", encoding=\"utf-8\") as f:\n",
        "    f.write(srt_content)\n",
        "\n",
        "### Download result 📂\n",
        "download_file = False # @param{type:\"boolean\"}\n",
        "if download_file:\n",
        " from google.colab import files\n",
        " files.download (\"translated.srt\")"
      ],
      "metadata": {
        "cellView": "form",
        "id": "hZKBjVotEGEX"
      },
      "execution_count": null,
      "outputs": []
    },
    {
      "cell_type": "code",
      "source": [
        "#@markdown # <font color=somblue>**¡DeepL Unlimited Subtitles!** <font color=d5d5d5> *Best Translator.*\n",
        "#@markdown ¡Traduzca tus subtitulos con gran precision usando DeepL De forma ilimitada!\n",
        "Source_Language = \"auto\" # @param ['ar', 'auto', 'bg', 'cs', 'da', 'de', 'el', 'en', 'es', 'et', 'fi', 'fr', 'hu', 'id', 'it', 'ja', 'ko', 'lt', 'lv', 'nb', 'nl', 'pl', 'pt', 'ro', 'ru', 'sk', 'sl', 'sv', 'tr', 'uk', 'zh']{allow-input: true}\n",
        "\n",
        "#@title Idioma de destino\n",
        "Target_Language = \"es\" #@param ['ar', 'bg', 'cs', 'da', 'de', 'el', 'en', 'es', 'et', 'fi', 'fr', 'hu', 'id', 'it', 'ja', 'ko', 'lt', 'lv', 'nb', 'nl', 'pl', 'pt', 'ro', 'ru', 'sk', 'sl', 'sv', 'tr', 'uk', 'zh']{allow-input: true}\n",
        "\n",
        "import os\n",
        "\n",
        "# SRT File\n",
        "from srtranslator import SrtFile\n",
        "\n",
        "from srtranslator.translators.pydeeplx import PyDeepLX\n",
        "translator = PyDeepLX()\n",
        "filepath = \"/content/audio.srt\"\n",
        "\n",
        "# SRT File\n",
        "sub = SrtFile(filepath)\n",
        "# Translate\n",
        "sub.translate(translator, Source_Language, Target_Language)\n",
        "\n",
        "# Making the result subtitles prettier\n",
        "sub.wrap_lines()\n",
        "\n",
        "sub.save(f\"{os.path.splitext(filepath)[0]}_translated.srt\")\n",
        "\n",
        "### Download result 📂\n",
        "Download_file = True # @param{type:\"boolean\"}\n",
        "if Download_file:\n",
        " from google.colab import files\n",
        " files.download (\"audio_translated.srt\")\n",
        "#@markdown **Advertencia:**\n",
        "#@markdown *Usar este traductor garantizara traducciones muy buenas, pero no es veloz. El tiempo que dure traduciendo, dependera de lo largo que sea tu subtitulo a traducir.*"
      ],
      "metadata": {
        "cellView": "form",
        "id": "vDeu5bZGTWuU"
      },
      "execution_count": null,
      "outputs": []
    },
    {
      "cell_type": "markdown",
      "source": [
        "## **Lenguajes disponibles para DeepL.** 🗨️\n"
      ],
      "metadata": {
        "id": "IIILsnqTUn6H"
      }
    },
    {
      "cell_type": "markdown",
      "source": [
        "```\n",
        "'ar': Arabic\n",
        "'auto': Auto\n",
        "'bg': Bulgaria\n",
        "'cs': Czech\n",
        "'da': Danish\n",
        "'de': German\n",
        "'el': Greek\n",
        "'en': English\n",
        "'es': Spanish\n",
        "'et': Estonian\n",
        "'fi': Finnish\n",
        "'fr': French\n",
        "'hu': Hungarian\n",
        "'id': Indonesian\n",
        "'it': Italian\n",
        "'ja': Japanese\n",
        "'ko': Korean\n",
        "'lt': Lithuanian\n",
        "'lv': Latvian\n",
        "'nb': Norwegian Bokmål\n",
        "'nl': Dutch\n",
        "'pl': Polish\n",
        "'pt': Portuguese\n",
        "'ro': Romanian\n",
        "'ru': Russian\n",
        "'sk': Slovak\n",
        "'sl': Slovenian\n",
        "'sv': Swedish\n",
        "'tr': Turkish\n",
        "'uk': Ukrainian\n",
        "'zh': Chinese\n",
        "```\n",
        "\n"
      ],
      "metadata": {
        "id": "BEd1NVOvZmTo"
      }
    },
    {
      "cell_type": "markdown",
      "source": [
        "## **Créditos y Agradecimientos Especiales**\n",
        "Este notebook, combina muchas librerias gratuitas provenientes de Github y PyPI para lograr hacer su cometido. A continuacion, compartire cuales son:\n",
        "\n",
        "- [**WhisperX** - Inteligencia Artificial Para transcribir](https://github.com/m-bain/whisperX)\n",
        "- [**Translators** - Librebria con Api para mas de 10 idiomas](https://pypi.org/project/translators/)\n",
        "- [**Srt** - Necesario para leer Archivos .srt](https://pypi.org/project/srt/)\n",
        "- [**Demucs** - Para la extracion de voz](https://pypi.org/project/demucs/)\n",
        "- [**Ctranslate2** - Necesario para WhisperX](https://pypi.org/project/ctranslate2/)\n",
        "- [**Yt-dlp** - para la descarga de videos](https://pypi.org/project/yt-dlp/)\n",
        "- [**Ip-Rotator** - Proxy para Apis](https://pypi.org/project/ip-rotator/)\n",
        "- [**Srtranslator** - Traduccion De Subtitulos Con Deepl](https://pypi.org/project/srtranslator/)\n",
        "\n",
        "Aclaracion Importante, este notebook tambien utiliza codigo propio para la creacion de subtitulos; Translators **No fue creado para traducir subtitulos, tuve que escribir yo el codigo para que funcionara de esa forma.** Aun asi, ¡Agradezco enormemente el equipo detrás de todos estos proyectos, son importantes para hacer posible este proyecto! Sin nada mas que decir, Disfruta de este proyecto!"
      ],
      "metadata": {
        "id": "TwtSHHeDRbb3"
      }
    }
  ]
}